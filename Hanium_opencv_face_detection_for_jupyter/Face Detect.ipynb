{
 "cells": [
  {
   "cell_type": "code",
   "execution_count": 1,
   "metadata": {},
   "outputs": [],
   "source": [
    "# Imports\n",
    "import numpy as np\n",
    "import cv2\n",
    "import math\n",
    "\n",
    "# 얼굴과  검출을 위한 케스케이드 분류기 생성 \n",
    "#OpenCV의 상위 레벨 API \n",
    "face_cascade = cv2.CascadeClassifier('./data/haarcascade_frontalface_default.xml')\n",
    "eye_cascade = cv2.CascadeClassifier('./data/haarcascade_eye.xml')\n",
    "\n"
   ]
  },
  {
   "cell_type": "code",
   "execution_count": 2,
   "metadata": {},
   "outputs": [],
   "source": [
    "#---얼굴 및 눈 검출\n",
    "\n",
    "\n",
    "\n",
    "# 카메라 캡쳐 활성화\n",
    "# 웹 카메라는 0번!\n",
    "cap = cv2.VideoCapture(0)\n",
    "\n",
    "while cap.isOpened():    \n",
    "    ret, img = cap.read()  # 프레임 읽기\n",
    "    if ret:\n",
    "        gray = cv2.cvtColor(img, cv2.COLOR_BGR2GRAY)\n",
    "        # 얼굴 검출    \n",
    "        faces = face_cascade.detectMultiScale(gray, scaleFactor=1.3, minNeighbors=5, minSize=(80,80))\n",
    "        for(x,y,w,h) in faces:\n",
    "            cv2.rectangle(img, (x,y), (x+w, y+h), (0, 255,0),2)\n",
    "            roi = gray[y:y+h, x:x+w]\n",
    "            # 눈 검출\n",
    "            eyes = eye_cascade.detectMultiScale(roi)\n",
    "            for i, (ex, ey, ew, eh) in enumerate(eyes):\n",
    "                if i >= 2:\n",
    "                    break\n",
    "                cv2.rectangle(img[y:y+h, x:x+w], (ex,ey), (ex+ew, ey+eh), (255,0,0),2  )\n",
    "        cv2.imshow('face detect', img)\n",
    "    else:\n",
    "        break\n",
    "    if cv2.waitKey(5) == 27: #키보드 esc 눌러주세용\n",
    "        break\n",
    "        \n",
    "cap.release()\n",
    "cv2.destroyAllWindows()"
   ]
  },
  {
   "cell_type": "code",
   "execution_count": 3,
   "metadata": {},
   "outputs": [],
   "source": [
    "#---얼굴 검출\n",
    "\n",
    "\n",
    "\n",
    "# 카메라 캡쳐 활성화\n",
    "# 웹 카메라는 0번!\n",
    "cap = cv2.VideoCapture(0)\n",
    "\n",
    "while cap.isOpened():    \n",
    "    ret, img = cap.read()  # 프레임 읽기\n",
    "    if ret:\n",
    "        gray = cv2.cvtColor(img, cv2.COLOR_BGR2GRAY)\n",
    "        # 얼굴 검출    \n",
    "        faces = face_cascade.detectMultiScale(gray, scaleFactor=1.3, minNeighbors=5, minSize=(80,80))\n",
    "        for(x,y,w,h) in faces:\n",
    "            cv2.rectangle(img, (x,y), (x+w, y+h), (0, 255,0),2)\n",
    "            roi = gray[y:y+h, x:x+w]\n",
    "        cv2.imshow('face detect', img)\n",
    "    else:\n",
    "        break\n",
    "    if cv2.waitKey(5) == 27: #키보드 esc 눌러주세용\n",
    "        break\n",
    "        \n",
    "cap.release()\n",
    "cv2.destroyAllWindows()"
   ]
  }
 ],
 "metadata": {
  "kernelspec": {
   "display_name": "Python 3",
   "language": "python",
   "name": "python3"
  },
  "language_info": {
   "codemirror_mode": {
    "name": "ipython",
    "version": 3
   },
   "file_extension": ".py",
   "mimetype": "text/x-python",
   "name": "python",
   "nbconvert_exporter": "python",
   "pygments_lexer": "ipython3",
   "version": "3.7.3"
  }
 },
 "nbformat": 4,
 "nbformat_minor": 2
}
